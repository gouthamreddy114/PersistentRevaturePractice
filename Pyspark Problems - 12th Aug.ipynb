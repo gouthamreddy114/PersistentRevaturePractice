{
 "cells": [
  {
   "cell_type": "code",
   "execution_count": 0,
   "metadata": {
    "application/vnd.databricks.v1+cell": {
     "cellMetadata": {
      "byteLimit": 2048000,
      "rowLimit": 10000
     },
     "inputWidgets": {},
     "nuid": "0e651d84-0da6-43ed-bffb-5334f029520a",
     "showTitle": false,
     "tableResultSettingsMap": {},
     "title": ""
    }
   },
   "outputs": [
    {
     "output_type": "stream",
     "name": "stdout",
     "output_type": "stream",
     "text": [
      "+-----------+-------------+------+\n|customer_id|         name|region|\n+-----------+-------------+------+\n|          1|Alice Johnson|  West|\n|          3|  Charlie Lee|  West|\n+-----------+-------------+------+\n\n"
     ]
    }
   ],
   "source": [
    "import datetime\n",
    "from pyspark.sql import SparkSession\n",
    "from pyspark.sql.types import StructType, StructField, IntegerType, StringType, DateType\n",
    "\n",
    "spark = SparkSession.builder.appName(\"CustomerData\").getOrCreate()\n",
    "spark.sql(\"CREATE DATABASE IF NOT EXISTS default\")\n",
    "\n",
    "customer_schema = StructType([\n",
    "    StructField(\"customer_id\", IntegerType(), False),\n",
    "    StructField(\"name\", StringType(), True),\n",
    "    StructField(\"region\", StringType(), True),\n",
    "    StructField(\"status\", StringType(), True),\n",
    "    StructField(\"signup_date\", DateType(), True)\n",
    "])\n",
    "\n",
    "customer_data = [\n",
    "    (1, \"Alice Johnson\", \"West\", \"Active\", datetime.date(2023, 1, 15)),\n",
    "    (2, \"Bob Smith\", \"East\", \"Inactive\", datetime.date(2023, 2, 20)),\n",
    "    (3, \"Charlie Lee\", \"West\", \"Active\", datetime.date(2023, 3, 10))\n",
    "]\n",
    "\n",
    "customers_df = spark.createDataFrame(customer_data, schema=customer_schema)\n",
    "customers_df.write.format(\"delta\").mode(\"overwrite\").saveAsTable(\"default.customers\")\n",
    "\n",
    "result_df = spark.sql(\"\"\"\n",
    "    SELECT customer_id, name, region\n",
    "    FROM default.customers\n",
    "    WHERE status = 'Active' AND region = 'West'\n",
    "    \"\"\")\n",
    "\n",
    "result_df.show()\n"
   ]
  },
  {
   "cell_type": "code",
   "execution_count": 0,
   "metadata": {
    "application/vnd.databricks.v1+cell": {
     "cellMetadata": {
      "byteLimit": 2048000,
      "rowLimit": 10000
     },
     "inputWidgets": {},
     "nuid": "b6772e0f-fb8a-4892-9d61-bb6daf4833ee",
     "showTitle": false,
     "tableResultSettingsMap": {},
     "title": ""
    }
   },
   "outputs": [
    {
     "output_type": "stream",
     "name": "stdout",
     "output_type": "stream",
     "text": [
      "+----------+----------+-----+---------+\n|product_id|      name|stock|warehouse|\n+----------+----------+-----+---------+\n|       101|    Laptop|   45|        A|\n|       102|Smartphone|  100|        B|\n|       103|    Tablet|   30|        A|\n+----------+----------+-----+---------+\n\n"
     ]
    }
   ],
   "source": [
    "from pyspark.sql import SparkSession\n",
    "from pyspark.sql.types import StructType, StructField, IntegerType, StringType\n",
    "from delta.tables import DeltaTable\n",
    "\n",
    "spark = SparkSession.builder.appName(\"InventoryUpdates\").getOrCreate()\n",
    "\n",
    "spark.sql(\"CREATE DATABASE IF NOT EXISTS default\")\n",
    "\n",
    "inventory_schema = StructType([\n",
    "    StructField(\"product_id\", IntegerType(), False),\n",
    "    StructField(\"name\", StringType(), True),\n",
    "    StructField(\"stock\", IntegerType(), True),\n",
    "    StructField(\"warehouse\", StringType(), True)\n",
    "])\n",
    "\n",
    "initial_data = [\n",
    "    (101, \"Laptop\", 50, \"A\"),\n",
    "    (102, \"Smartphone\", 100, \"B\")\n",
    "]\n",
    "initial_df = spark.createDataFrame(initial_data, schema=inventory_schema)\n",
    "initial_df.write.format(\"delta\").mode(\"overwrite\").saveAsTable(\"default.products\")\n",
    "\n",
    "update_data = [\n",
    "    (101, \"Laptop\", 45, \"A\"),  # update\n",
    "    (103, \"Tablet\", 30, \"A\")   # insert\n",
    "]\n",
    "update_df = spark.createDataFrame(update_data, schema=inventory_schema)\n",
    "\n",
    "target_table = DeltaTable.forName(spark, \"default.products\")\n",
    "target_table.alias(\"target\").merge(\n",
    "    update_df.alias(\"source\"),\n",
    "    \"target.product_id = source.product_id\"\n",
    ").whenMatchedUpdate(\n",
    "    set={\"stock\": \"source.stock\"}\n",
    ").whenNotMatchedInsert(\n",
    "    values={\n",
    "        \"product_id\": \"source.product_id\",\n",
    "        \"name\": \"source.name\",\n",
    "        \"stock\": \"source.stock\",\n",
    "        \"warehouse\": \"source.warehouse\"\n",
    "    }\n",
    ").execute()\n",
    "\n",
    "spark.sql(\"SELECT * FROM default.products ORDER BY product_id\").show()\n"
   ]
  },
  {
   "cell_type": "code",
   "execution_count": 0,
   "metadata": {
    "application/vnd.databricks.v1+cell": {
     "cellMetadata": {
      "byteLimit": 2048000,
      "rowLimit": 10000
     },
     "inputWidgets": {},
     "nuid": "4037acd8-b9d9-4fa7-b4fa-e054b09edda0",
     "showTitle": false,
     "tableResultSettingsMap": {},
     "title": ""
    }
   },
   "outputs": [
    {
     "output_type": "stream",
     "name": "stdout",
     "output_type": "stream",
     "text": [
      "+------------+\n|total_amount|\n+------------+\n|       25000|\n+------------+\n\n+------------+\n|total_amount|\n+------------+\n|       27000|\n+------------+\n\n"
     ]
    }
   ],
   "source": [
    "from pyspark.sql import SparkSession\n",
    "from pyspark.sql.types import StructType, StructField, IntegerType, StringType\n",
    "from delta.tables import DeltaTable\n",
    "\n",
    "spark = SparkSession.builder.appName(\"SalesAnalysis\").getOrCreate()\n",
    "\n",
    "spark.sql(\"CREATE DATABASE IF NOT EXISTS sales_db\")\n",
    "\n",
    "sales_schema = StructType([\n",
    "    StructField(\"sale_id\", IntegerType(), False),\n",
    "    StructField(\"product\", StringType(), True),\n",
    "    StructField(\"amount\", IntegerType(), True),\n",
    "    StructField(\"quarter\", StringType(), True)\n",
    "])\n",
    "\n",
    "initial_data = [\n",
    "    (1, \"Stocks\", 10000, \"Q1-2023\"),\n",
    "    (2, \"Bonds\", 15000, \"Q1-2023\")\n",
    "]\n",
    "initial_df = spark.createDataFrame(initial_data, schema=sales_schema)\n",
    "\n",
    "initial_df.write.format(\"delta\").mode(\"overwrite\").saveAsTable(\"sales_db.quarterly_sales\")\n",
    "\n",
    "update_data = [\n",
    "    (1, \"Stocks\", 12000, \"Q1-2023\")\n",
    "]\n",
    "update_df = spark.createDataFrame(update_data, schema=sales_schema)\n",
    "\n",
    "delta_table = DeltaTable.forName(spark, \"sales_db.quarterly_sales\")\n",
    "delta_table.alias(\"target\").merge(\n",
    "    update_df.alias(\"source\"),\n",
    "    \"target.sale_id = source.sale_id\"\n",
    ").whenMatchedUpdate(set={\"amount\": \"source.amount\"}).execute()\n",
    "\n",
    "history_df = delta_table.history()\n",
    "previous_version = history_df.select(\"version\").collect()[1][0]\n",
    "\n",
    "prev_total = spark.sql(f\"\"\"\n",
    "SELECT SUM(amount) AS total_amount\n",
    "FROM sales_db.quarterly_sales VERSION AS OF {previous_version}\n",
    "\"\"\")\n",
    "prev_total.show()\n",
    "\n",
    "curr_total = spark.sql(\"\"\"\n",
    "SELECT SUM(amount) AS total_amount\n",
    "FROM sales_db.quarterly_sales\n",
    "\"\"\")\n",
    "curr_total.show()\n"
   ]
  }
 ],
 "metadata": {
  "application/vnd.databricks.v1+notebook": {
   "computePreferences": {
    "hardware": {
     "accelerator": null,
     "gpuPoolId": null,
     "memory": null
    }
   },
   "dashboards": [],
   "environmentMetadata": {
    "base_environment": "",
    "environment_version": "2"
   },
   "inputWidgetPreferences": null,
   "language": "python",
   "notebookMetadata": {
    "pythonIndentUnit": 4
   },
   "notebookName": "Pyspark Problems",
   "widgets": {}
  },
  "language_info": {
   "name": "python"
  }
 },
 "nbformat": 4,
 "nbformat_minor": 0
}