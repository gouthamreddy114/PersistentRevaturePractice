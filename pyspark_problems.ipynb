{
  "nbformat": 4,
  "nbformat_minor": 0,
  "metadata": {
    "colab": {
      "provenance": []
    },
    "kernelspec": {
      "name": "python3",
      "display_name": "Python 3"
    },
    "language_info": {
      "name": "python"
    }
  },
  "cells": [
    {
      "cell_type": "code",
      "execution_count": 1,
      "metadata": {
        "colab": {
          "base_uri": "https://localhost:8080/",
          "height": 0
        },
        "id": "QOTNXVjzbWl_",
        "outputId": "fdc893ec-d5f1-4994-f54a-05f4ff259d90"
      },
      "outputs": [
        {
          "output_type": "stream",
          "name": "stdout",
          "text": [
            "+----------+----+------+----------------+\n",
            "|     house|year|points|         student|\n",
            "+----------+----+------+----------------+\n",
            "|Gryffindor|   1|    80|    Harry Potter|\n",
            "| Slytherin|   1|    60|    Draco Malfoy|\n",
            "| Ravenclaw|   1|    45|   Luna Lovegood|\n",
            "|Hufflepuff|   1|    30|  Cedric Diggory|\n",
            "|Gryffindor|   2|    90|Hermione Granger|\n",
            "| Slytherin|   2|    70| Pansy Parkinson|\n",
            "| Ravenclaw|   2|    55|       Cho Chang|\n",
            "|Hufflepuff|   2|    65|   Hannah Abbott|\n",
            "|Gryffindor|   3|    20|     Ron Weasley|\n",
            "| Slytherin|   3|    85|   Blaise Zabini|\n",
            "+----------+----+------+----------------+\n",
            "\n"
          ]
        }
      ],
      "source": [
        "from pyspark.sql import SparkSession\n",
        "\n",
        "spark = SparkSession.builder.appName(\"HogwartsAnalysis\").getOrCreate()\n",
        "\n",
        "data = [\n",
        "    (\"Gryffindor\", 1, 80, \"Harry Potter\"),\n",
        "    (\"Slytherin\", 1, 60, \"Draco Malfoy\"),\n",
        "    (\"Ravenclaw\", 1, 45, \"Luna Lovegood\"),\n",
        "    (\"Hufflepuff\", 1, 30, \"Cedric Diggory\"),\n",
        "    (\"Gryffindor\", 2, 90, \"Hermione Granger\"),\n",
        "    (\"Slytherin\", 2, 70, \"Pansy Parkinson\"),\n",
        "    (\"Ravenclaw\", 2, 55, \"Cho Chang\"),\n",
        "    (\"Hufflepuff\", 2, 65, \"Hannah Abbott\"),\n",
        "    (\"Gryffindor\", 3, 20, \"Ron Weasley\"),\n",
        "    (\"Slytherin\", 3, 85, \"Blaise Zabini\")\n",
        "]\n",
        "\n",
        "columns = [\"house\", \"year\", \"points\", \"student\"]\n",
        "df = spark.createDataFrame(data, columns)\n",
        "df.show()"
      ]
    },
    {
      "cell_type": "code",
      "source": [
        "from pyspark.sql.functions import col, sum as spark_sum\n",
        "\n",
        "df1 = df.select(\"house\", \"year\", \"points\")\n",
        "df2 = df1.filter(col(\"points\") > 50)\n",
        "df3 = df2.groupBy(\"house\", \"year\") \\\n",
        "    .agg(spark_sum(\"points\").alias(\"total_points\"))\n",
        "\n",
        "df4 = df3.orderBy(col(\"year\").asc(), col(\"total_points\").desc())\n",
        "df4.show()\n"
      ],
      "metadata": {
        "colab": {
          "base_uri": "https://localhost:8080/",
          "height": 0
        },
        "id": "qp3EcHzsbiEw",
        "outputId": "93363b8a-a18b-4517-e43d-d36a28c35eaf"
      },
      "execution_count": 2,
      "outputs": [
        {
          "output_type": "stream",
          "name": "stdout",
          "text": [
            "+----------+----+------------+\n",
            "|     house|year|total_points|\n",
            "+----------+----+------------+\n",
            "|Gryffindor|   1|          80|\n",
            "| Slytherin|   1|          60|\n",
            "|Gryffindor|   2|          90|\n",
            "| Slytherin|   2|          70|\n",
            "|Hufflepuff|   2|          65|\n",
            "| Ravenclaw|   2|          55|\n",
            "| Slytherin|   3|          85|\n",
            "+----------+----+------------+\n",
            "\n"
          ]
        }
      ]
    },
    {
      "cell_type": "code",
      "source": [
        "from pyspark.sql import SparkSession\n",
        "\n",
        "spark = SparkSession.builder.appName(\"Ring Battle Stats\").getOrCreate()\n",
        "\n",
        "data = [\n",
        "    (\"Aragorn\", \"Human\", 10, 2, \"Helms Deep\"),\n",
        "    (\"Legolas\", \"Elf\", 15, 0, \"Helms Deep\"),\n",
        "    (\"Gimli\", \"Dwarf\", 8, 3, \"Helms Deep\"),\n",
        "    (\"Frodo\", \"Hobbit\", 2, 1, \"Moria\"),\n",
        "    (\"Sam\", \"Hobbit\", 4, 2, \"Moria\"),\n",
        "    (\"Gandalf\", \"Wizard\", 12, 1, \"Moria\"),\n",
        "    (\"Boromir\", \"Human\", 7, 4, \"Amon Hen\"),\n",
        "    (\"Legolas\", \"Elf\", 20, 0, \"Amon Hen\"),\n",
        "    (\"Aragorn\", \"Human\", 9, 2, \"Amon Hen\")\n",
        "]\n",
        "\n",
        "columns = [\"name\", \"race\", \"enemies_defeated\", \"injuries\", \"battle\"]\n",
        "df = spark.createDataFrame(data, columns)\n",
        "df.show()"
      ],
      "metadata": {
        "colab": {
          "base_uri": "https://localhost:8080/",
          "height": 0
        },
        "id": "ZD_EVgCLcxX2",
        "outputId": "a2206bec-df89-4e7a-a62f-a85b0aa74c4a"
      },
      "execution_count": 3,
      "outputs": [
        {
          "output_type": "stream",
          "name": "stdout",
          "text": [
            "+-------+------+----------------+--------+----------+\n",
            "|   name|  race|enemies_defeated|injuries|    battle|\n",
            "+-------+------+----------------+--------+----------+\n",
            "|Aragorn| Human|              10|       2|Helms Deep|\n",
            "|Legolas|   Elf|              15|       0|Helms Deep|\n",
            "|  Gimli| Dwarf|               8|       3|Helms Deep|\n",
            "|  Frodo|Hobbit|               2|       1|     Moria|\n",
            "|    Sam|Hobbit|               4|       2|     Moria|\n",
            "|Gandalf|Wizard|              12|       1|     Moria|\n",
            "|Boromir| Human|               7|       4|  Amon Hen|\n",
            "|Legolas|   Elf|              20|       0|  Amon Hen|\n",
            "|Aragorn| Human|               9|       2|  Amon Hen|\n",
            "+-------+------+----------------+--------+----------+\n",
            "\n"
          ]
        }
      ]
    },
    {
      "cell_type": "code",
      "source": [
        "from pyspark.sql.functions import col, avg\n",
        "\n",
        "df5 = df.select(\"name\", \"race\", \"enemies_defeated\")\n",
        "df6 = df5.filter(col(\"enemies_defeated\") > 5)\n",
        "df7 = df6.groupBy(\"race\") \\\n",
        "    .agg(avg(\"enemies_defeated\").alias(\"avg_enemies_defeated\"))\n",
        "\n",
        "df8 = df7.orderBy(col(\"avg_enemies_defeated\").desc())\n",
        "df8.show()\n"
      ],
      "metadata": {
        "colab": {
          "base_uri": "https://localhost:8080/",
          "height": 0
        },
        "id": "axLUXjCndK-d",
        "outputId": "4957abd0-8261-46f2-c7e6-636b0e16f062"
      },
      "execution_count": 4,
      "outputs": [
        {
          "output_type": "stream",
          "name": "stdout",
          "text": [
            "+------+--------------------+\n",
            "|  race|avg_enemies_defeated|\n",
            "+------+--------------------+\n",
            "|   Elf|                17.5|\n",
            "|Wizard|                12.0|\n",
            "| Human|   8.666666666666666|\n",
            "| Dwarf|                 8.0|\n",
            "+------+--------------------+\n",
            "\n"
          ]
        }
      ]
    },
    {
      "cell_type": "code",
      "source": [
        "from pyspark.sql import SparkSession\n",
        "\n",
        "spark = SparkSession.builder.appName(\"HogwartsAnalysis\").getOrCreate()\n",
        "\n",
        "data = [\n",
        "    (\"SUB-01\", \"Pacific Strike\", 5, \"Success\"),\n",
        "    (\"SUB-02\", \"Atlantic Surge\", 2, \"Failure\"),\n",
        "    (\"SUB-01\", \"Arctic Blitz\", 4, \"Success\"),\n",
        "    (\"SUB-03\", \"Indian Ocean\", 6, \"Success\"),\n",
        "    (\"SUB-02\", \"Pacific Strike\", 3, \"Success\"),\n",
        "    (\"SUB-01\", \"Coral Sea\", 7, \"Success\"),\n",
        "    (\"SUB-03\", \"Arctic Blitz\", 1, \"Failure\"),\n",
        "    (\"SUB-02\", \"Bering Strait\", 5, \"Success\")\n",
        "]\n",
        "\n",
        "columns = [\"submarine_id\", \"mission_name\", \"warheads_launched\", \"status\"]\n",
        "df = spark.createDataFrame(data, columns)\n",
        "df.show()"
      ],
      "metadata": {
        "colab": {
          "base_uri": "https://localhost:8080/",
          "height": 0
        },
        "id": "_kVKmBhclV2M",
        "outputId": "3772a6f6-3f78-4bc9-9d23-d5dc30878b18"
      },
      "execution_count": 5,
      "outputs": [
        {
          "output_type": "stream",
          "name": "stdout",
          "text": [
            "+------------+--------------+-----------------+-------+\n",
            "|submarine_id|  mission_name|warheads_launched| status|\n",
            "+------------+--------------+-----------------+-------+\n",
            "|      SUB-01|Pacific Strike|                5|Success|\n",
            "|      SUB-02|Atlantic Surge|                2|Failure|\n",
            "|      SUB-01|  Arctic Blitz|                4|Success|\n",
            "|      SUB-03|  Indian Ocean|                6|Success|\n",
            "|      SUB-02|Pacific Strike|                3|Success|\n",
            "|      SUB-01|     Coral Sea|                7|Success|\n",
            "|      SUB-03|  Arctic Blitz|                1|Failure|\n",
            "|      SUB-02| Bering Strait|                5|Success|\n",
            "+------------+--------------+-----------------+-------+\n",
            "\n"
          ]
        }
      ]
    },
    {
      "cell_type": "code",
      "source": [
        "from pyspark.sql.functions import col, count, sum as spark_sum\n",
        "\n",
        "df9 = df.filter(\n",
        "    (col(\"warheads_launched\") > 3) & (col(\"status\") == \"Success\")).select(\"submarine_id\", \"mission_name\", \"warheads_launched\")\n",
        "\n",
        "df10 = df9.groupBy(\"submarine_id\") \\\n",
        "    .agg(count(\"mission_name\").alias(\"total_missions\"),spark_sum(\"warheads_launched\").alias(\"total_warheads_launched\"))\n",
        "\n",
        "df11 = df10.orderBy(col(\"total_warheads_launched\").desc())\n",
        "\n",
        "df11.show()\n"
      ],
      "metadata": {
        "colab": {
          "base_uri": "https://localhost:8080/",
          "height": 0
        },
        "id": "qg3pNWnJle_p",
        "outputId": "f3f58fbe-410a-4a4d-9eaf-0117e5d22b35"
      },
      "execution_count": 6,
      "outputs": [
        {
          "output_type": "stream",
          "name": "stdout",
          "text": [
            "+------------+--------------+-----------------------+\n",
            "|submarine_id|total_missions|total_warheads_launched|\n",
            "+------------+--------------+-----------------------+\n",
            "|      SUB-01|             3|                     16|\n",
            "|      SUB-03|             1|                      6|\n",
            "|      SUB-02|             1|                      5|\n",
            "+------------+--------------+-----------------------+\n",
            "\n"
          ]
        }
      ]
    }
  ]
}